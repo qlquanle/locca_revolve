{
 "cells": [
  {
   "cell_type": "code",
   "execution_count": 67,
   "metadata": {},
   "outputs": [],
   "source": [
    "import os\n",
    "import sys\n",
    "import numpy as np\n",
    "import pandas as pd\n",
    "import requests\n",
    "from tqdm.notebook import tqdm as tqdm\n",
    "from functools import partial\n",
    "from pathlib import Path\n",
    "from multiprocessing import Pool\n",
    "from multiprocessing.dummy import Pool as ThreadPool \n",
    "import errno\n",
    "import time"
   ]
  },
  {
   "cell_type": "code",
   "execution_count": 30,
   "metadata": {},
   "outputs": [],
   "source": [
    "# HELPERS\n",
    "def chunks(l, n):\n",
    "    # For item i in a range that is a length of l,\n",
    "    for i in range(0, len(l), n):\n",
    "        # Create an index range for l of n items:\n",
    "        yield l[i:i+n]\n",
    "\n",
    "def mkdir_p(path):\n",
    "    try:\n",
    "        os.makedirs(path)\n",
    "    except OSError as exc:  # Python > 2.5\n",
    "        if exc.errno == errno.EEXIST and os.path.isdir(path):\n",
    "            pass\n",
    "        else:\n",
    "            raise\n",
    "        \n",
    "# HELPERS"
   ]
  },
  {
   "cell_type": "code",
   "execution_count": 31,
   "metadata": {},
   "outputs": [],
   "source": [
    "with open('/Users/quanle/locca_revolve/input/test_urls.txt', 'r') as f:\n",
    "    test_urls = f.readlines()\n",
    "test_urls = [x.strip() for x in test_urls]\n",
    "in_urls = test_urls"
   ]
  },
  {
   "cell_type": "code",
   "execution_count": 32,
   "metadata": {},
   "outputs": [],
   "source": [
    "with open('/Users/quanle/locca_revolve/input/user_agents.txt', 'r') as f:\n",
    "    user_agents = f.readlines()\n",
    "user_agents = [x.strip() for x in user_agents]"
   ]
  },
  {
   "cell_type": "code",
   "execution_count": 33,
   "metadata": {},
   "outputs": [],
   "source": [
    "url_prefix = 'https://chroniclingamerica.loc.gov/data/batches/'\n",
    "batch_names = [x.replace(url_prefix, '').split('/')[0] for x in test_urls]\n",
    "url_tails = [x.replace(url_prefix, '').split('/')[1:] for x in test_urls]\n",
    "url_tails = ['/'.join(x) for x in url_tails]\n",
    "\n",
    "out_path = \"./scans/\"\n",
    "out_files = [x.replace(url_prefix, out_path) for x in test_urls]"
   ]
  },
  {
   "cell_type": "code",
   "execution_count": 34,
   "metadata": {},
   "outputs": [],
   "source": [
    "in_zip = list(zip(in_urls, out_files))"
   ]
  },
  {
   "cell_type": "code",
   "execution_count": 72,
   "metadata": {},
   "outputs": [],
   "source": [
    "my_chunks = list(chunks(in_zip, 10))"
   ]
  },
  {
   "cell_type": "code",
   "execution_count": 73,
   "metadata": {},
   "outputs": [],
   "source": [
    "def parallelize_download(chunk):\n",
    "    for i in range(len(chunk)):\n",
    "        HEADERS = {\n",
    "            'User-Agent': np.random.choice(user_agents)\n",
    "        }\n",
    "        out_folder = '/'.join(chunk[i][1].split('/')[:-1])\n",
    "        mkdir_p(out_folder)\n",
    "        r = requests.get(chunk[i][0], headers=HEADERS)\n",
    "        with open(in_zip[i][1], 'wb') as f:\n",
    "            f.write(r.content)\n",
    "    return 0          "
   ]
  },
  {
   "cell_type": "code",
   "execution_count": 74,
   "metadata": {},
   "outputs": [
    {
     "data": {
      "application/vnd.jupyter.widget-view+json": {
       "model_id": "190112a4064c455d9333387af53d2720",
       "version_major": 2,
       "version_minor": 0
      },
      "text/plain": [
       "0it [00:00, ?it/s]"
      ]
     },
     "metadata": {},
     "output_type": "display_data"
    }
   ],
   "source": [
    "pool = ThreadPool(32)\n",
    "time0 = time.time()\n",
    "results = list(tqdm(pool.imap(parallelize_download, my_chunks)))\n",
    "time1 = time.time()\n",
    "print('Time elapsed: ', time1-time0)"
   ]
  },
  {
   "cell_type": "code",
   "execution_count": null,
   "metadata": {},
   "outputs": [],
   "source": []
  }
 ],
 "metadata": {
  "kernelspec": {
   "display_name": "venv-locca_revolve",
   "language": "python",
   "name": "python3"
  },
  "language_info": {
   "codemirror_mode": {
    "name": "ipython",
    "version": 3
   },
   "file_extension": ".py",
   "mimetype": "text/x-python",
   "name": "python",
   "nbconvert_exporter": "python",
   "pygments_lexer": "ipython3",
   "version": "3.7.4"
  },
  "orig_nbformat": 4
 },
 "nbformat": 4,
 "nbformat_minor": 2
}
